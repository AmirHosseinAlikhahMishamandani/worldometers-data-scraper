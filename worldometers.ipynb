{
  "nbformat": 4,
  "nbformat_minor": 0,
  "metadata": {
    "colab": {
      "provenance": [],
      "authorship_tag": "ABX9TyOGL7q8usP6Ic4W9W+4uQ3U",
      "include_colab_link": true
    },
    "kernelspec": {
      "name": "python3",
      "display_name": "Python 3"
    },
    "language_info": {
      "name": "python"
    }
  },
  "cells": [
    {
      "cell_type": "markdown",
      "metadata": {
        "id": "view-in-github",
        "colab_type": "text"
      },
      "source": [
        "<a href=\"https://colab.research.google.com/github/AmirHosseinAlikhahMishamandani/worldometers-data-scraper/blob/main/worldometers.ipynb\" target=\"_parent\"><img src=\"https://colab.research.google.com/assets/colab-badge.svg\" alt=\"Open In Colab\"/></a>"
      ]
    },
    {
      "cell_type": "markdown",
      "source": [
        "# Worldometers Data Scraper\n",
        "\n",
        "This Python program scrapes data from https://www.worldometers.info to create a table containing information about countries, including their population, area, GDP (Nominal), and continent. It utilizes BeautifulSoup for web scraping."
      ],
      "metadata": {
        "id": "KG3izICln8hu"
      }
    },
    {
      "cell_type": "markdown",
      "source": [
        "## Data Acquisition\n",
        "\n",
        "Collecting data from [worldometers.com](https://www.worldometers.info/world-population/population-by-country/)!\n",
        "\n",
        "This involves data scraping, and it may vary depending on the latest updates.\n",
        "\n",
        "Date Accessed: Wednesday, January 17, 2024.\n"
      ],
      "metadata": {
        "id": "HbHJ87sMMJab"
      }
    },
    {
      "cell_type": "code",
      "execution_count": 13,
      "metadata": {
        "colab": {
          "base_uri": "https://localhost:8080/"
        },
        "id": "-pkYnCaiIMvp",
        "outputId": "7b28484e-5b57-4545-cd95-02c8912594f1"
      },
      "outputs": [
        {
          "output_type": "stream",
          "name": "stdout",
          "text": [
            "      Country Continent     Population       Area        GDP (Nominal)\n",
            "0       China      Asia  1,425,671,352  9,388,211  $17,963,200,000,000\n",
            "1       India      Asia  1,428,627,663  2,973,190   $3,385,090,000,000\n",
            "2   Indonesia      Asia    277,534,122  1,811,570   $1,319,100,000,000\n",
            "3    Pakistan      Asia    240,485,658    770,880     $376,533,000,000\n",
            "4  Bangladesh      Asia    172,954,319    130,170     $460,201,000,000\n"
          ]
        }
      ],
      "source": [
        "import requests\n",
        "from bs4 import BeautifulSoup\n",
        "import pandas as pd\n",
        "\n",
        "def fetch_data(url):\n",
        "    page = requests.get(url)\n",
        "    soup = BeautifulSoup(page.content, 'html.parser')\n",
        "    table = soup.find('table', id='example2') or soup.find('table')\n",
        "    headers = [th.text.strip() for th in table.find('thead').find_all('th')]\n",
        "    rows = table.find('tbody').find_all('tr')\n",
        "    data = [[ele.text.strip() for ele in row.find_all('td')] for row in rows]\n",
        "    temp_df = pd.DataFrame(data, columns=headers)\n",
        "\n",
        "    # Map actual column names to the standard ones\n",
        "    column_mappings = {\n",
        "        next((col for col in headers if 'Country' in col), None): 'Country',\n",
        "        next((col for col in headers if 'Population' in col), None): 'Population',\n",
        "        next((col for col in headers if 'Area' in col), None): 'Area'\n",
        "    }\n",
        "\n",
        "    # Rename the columns\n",
        "    temp_df.rename(columns=column_mappings, inplace=True)\n",
        "\n",
        "    # Keep only the required columns\n",
        "    temp_df = temp_df[['Country', 'Population', 'Area']]\n",
        "    return temp_df\n",
        "\n",
        "# List of continents and their URLs\n",
        "continents_urls = [\n",
        "    ('Asia', 'https://www.worldometers.info/population/countries-in-asia-by-population/'),\n",
        "    ('Africa', 'https://www.worldometers.info/population/countries-in-africa-by-population/'),\n",
        "    ('Oceania','https://www.worldometers.info/population/countries-in-oceania-by-population/'),\n",
        "    ('Northern America', 'https://www.worldometers.info/population/countries-in-northern-america-by-population/'),\n",
        "    ('Latin America and the Caribbean','https://www.worldometers.info/population/countries-in-latin-america-and-the-caribbean-by-population/'),\n",
        "    ('Europe','https://www.worldometers.info/population/countries-in-europe-by-population/'),\n",
        "]\n",
        "\n",
        "df = pd.DataFrame(columns=['Country', 'Continent', 'Population', 'Area'])\n",
        "\n",
        "for continent, url in continents_urls:\n",
        "    continent_data = fetch_data(url)\n",
        "    continent_data['Continent'] = continent\n",
        "    df = pd.concat([df, continent_data], ignore_index=True)\n",
        "\n",
        "def fetch_gdp_data(url):\n",
        "    page = requests.get(url)\n",
        "    soup = BeautifulSoup(page.content, 'html.parser')\n",
        "    table = soup.find('table')\n",
        "    headers = [th.text.strip() for th in table.find('thead').find_all('th')]\n",
        "    rows = table.find('tbody').find_all('tr')\n",
        "    data = [[ele.text.strip() for ele in row.find_all('td')] for row in rows]\n",
        "    gdp_df = pd.DataFrame(data, columns=headers)\n",
        "\n",
        "    # Adjusted filter: includes the 'GDP (nominal, 2022)' column\n",
        "    filtered_columns = ['Country', 'GDP (nominal, 2022)']\n",
        "    gdp_df = gdp_df[filtered_columns]\n",
        "\n",
        "    # Rename columns\n",
        "    gdp_df.rename(columns={'Country': 'Country', 'GDP (nominal, 2022)': 'GDP (Nominal)'}, inplace=True)\n",
        "\n",
        "    return gdp_df\n",
        "\n",
        "# Test the function\n",
        "gdp_url = \"https://www.worldometers.info/gdp/gdp-by-country/\"\n",
        "gdp_df = fetch_gdp_data(gdp_url)\n",
        "\n",
        "# Assuming 'df' is your main DataFrame with Country, Continent, Population, and Area\n",
        "# Merge the GDP data\n",
        "df_merged = pd.merge(df, gdp_df, on='Country', how='left')\n",
        "\n",
        "# Display and save the DataFrame\n",
        "print(df_merged.head())\n",
        "df_merged.to_csv('Countries_data.csv', index=False)"
      ]
    }
  ]
}